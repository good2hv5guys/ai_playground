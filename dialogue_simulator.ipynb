{
 "cells": [
  {
   "cell_type": "code",
   "execution_count": 1,
   "id": "5992af1f",
   "metadata": {},
   "outputs": [],
   "source": [
    "import openai"
   ]
  },
  {
   "cell_type": "code",
   "execution_count": 2,
   "id": "ce1d0821",
   "metadata": {},
   "outputs": [],
   "source": [
    "# api_private_key = \"sk-xxx\""
   ]
  },
  {
   "cell_type": "code",
   "execution_count": 3,
   "id": "84d71e77",
   "metadata": {},
   "outputs": [],
   "source": [
    "def get_completion(prompt, model=\"gpt-3.5-turbo\"):\n",
    "    messages = [{\"role\": \"user\", \"content\": prompt}]\n",
    "    response = openai.ChatCompletion.create(\n",
    "        model=model,\n",
    "        messages=messages,\n",
    "        temperature=0, # this is the degree of randomness of the model's output\n",
    "    )\n",
    "    return response.choices[0].message[\"content\"]"
   ]
  },
  {
   "cell_type": "code",
   "execution_count": 4,
   "id": "3bebad19",
   "metadata": {},
   "outputs": [],
   "source": [
    "def js_dialogue_simulator (input_prev_conv\n",
    "                               ,input_new_conv\n",
    "                               ,role_to_simu\n",
    "                               ,tune\n",
    "                               ,api_private_key):\n",
    "    \n",
    "    openai.api_key = api_private_key\n",
    "    \n",
    "    prompt = f\"\"\"\n",
    "    ```{input_prev_conv}```\n",
    "\n",
    "    Your task is to study the above text delimited by triple quotes, \n",
    "    \\ then assume you are {role_to_simu} and reply to the following text delimited by triple slash in {tune}.\n",
    "    \n",
    "    ///{input_new_conv}///\n",
    "    \"\"\"\n",
    "    \n",
    "    response = get_completion(prompt)\n",
    "    print(response)\n"
   ]
  },
  {
   "cell_type": "code",
   "execution_count": 5,
   "id": "edaf4356",
   "metadata": {},
   "outputs": [],
   "source": [
    "key = \"sk-...\""
   ]
  },
  {
   "cell_type": "code",
   "execution_count": 6,
   "id": "1316aaa7",
   "metadata": {},
   "outputs": [],
   "source": [
    "input_prev_conv = f\"\"\"\n",
    "Interviewer: Welcome to ABC Controls, David. I am Tom.\n",
    "Interviewee: Hello, it's nice to meet you.\n",
    "Interviewer: Nice to meet you too, how are you doing today?\n",
    "Interviewee: I am doing well, and yourself?\n",
    "Interviewer: Great, thanks. I hope we didn't keep you waiting for long?\n",
    "Interviewee: No, I had the chance to talk to one of your engineers while waiting.\n",
    "Interviewer: That's good. David, shall we start?\n",
    "Interviewee: Yeah, sure.\n",
    "Interviewer: First of all, let me introduce myself. I am the manager of our engineering department here and we have an open position, so we have been interviewing applicants to fill the position as quickly as possible.\n",
    "Interviewee: Yes sir, I read about the position on your website, and I think I am a good fit.\n",
    "Interviewer: We currently have several ongoing projects and the team is working hard. We are hoping to keep busy for a long time.\n",
    "Interviewee: What are the essential qualifications required for the position?\n",
    "Interviewer: This is an entry-level engineering position, we do provide a lot of training here. But we do require that you have at least a bachelors degree in computer engineering. Previous experience in the field is a plus.\n",
    "Interviewee: What kind of experience would you count as a work in the field?\n",
    "Interviewer: Even though we provide training, it would be great if you had some hands-on programming experience, knowledge of database systems or skills on developing applications.\n",
    "Interviewee: My final school project was actually developing a mobile application, so I am fairly competent in developing mobile and web applications.\n",
    "Interviewer: That's good to hear, which school did you graduate from?\n",
    "Interviewee: I was a student at DEF University, and I graduated with a bachelor degree in computer science. I worked as a computer lab tutor in school for about 2 years. Guiding students through their projects helped me get experience in several programming languages.\n",
    "Interviewer: What are you looking for in a job?\n",
    "Interviewee: The job should definitely help me grow in my career. I will be happy to learn and grow as I work in a passionate company like yours.\n",
    "Interviewer: You are right. There is plenty of room for advancement in our company. What are your strengths? Why should I hire you?\n",
    "Interviewee: I am a diligent person and a fast learner. I am very eager to learn. My friends also find me very easy to work with.\n",
    "Interviewer: Very well. Now, do you mind working overtime?\n",
    "Interviewee: No, I do not.\n",
    "Interviewer: Because, sometimes we get overwhelmed with heavy workload.\n",
    "Interviewee: I understand that's the nature of the job. When I was going to school, I took quite a few courses each semester while working at least twenty hours every week. And, I handled that situation very well.\n",
    "Interviewer: Do you have any questions for me?\n",
    "Interviewee: No, I think I have a pretty good understanding of the requirements. I believe that I can handle it with ease, and the fact that you provide all the training sounds excellent. I hope to have the opportunity to work for you.\n",
    "Interviewer: David, It is nice to meet you. I can tell that you are a good candidate. Expect to hear from us within a week or so about the job.\n",
    "Interviewee: Nice meeting you too. Thank you f|or your time.\n",
    "Interviewer: Thank you for coming.\n",
    "\"\"\"\n"
   ]
  },
  {
   "cell_type": "code",
   "execution_count": 7,
   "id": "38539801",
   "metadata": {},
   "outputs": [
    {
     "name": "stdout",
     "output_type": "stream",
     "text": [
      "Interviewer: Thank you for asking. I would like to know if you have any experience working in a team environment and how you handle conflicts that may arise within a team. Can you tell me about that?\n"
     ]
    }
   ],
   "source": [
    "input_new_conv = f\"\"\"\n",
    "What other question do you have?\n",
    "\"\"\"\n",
    "\n",
    "js_dialogue_simulator (input_prev_conv\n",
    "                           ,input_new_conv\n",
    "                           ,role_to_simu = 'Interviewer'\n",
    "                           ,tune = 'the same tune'\n",
    "                           ,api_private_key = key)\n",
    "\n"
   ]
  },
  {
   "cell_type": "code",
   "execution_count": 8,
   "id": "b03c642f",
   "metadata": {},
   "outputs": [
    {
     "name": "stdout",
     "output_type": "stream",
     "text": [
      "Interviewer: Yes, David. I think you did a great job in the interview. You have a good educational background and some relevant experience in developing applications. Your willingness to learn and work hard is also a plus. Overall, I think you are a strong candidate for the position. We will be in touch soon with our decision. Thank you for your interest in our company.\n"
     ]
    }
   ],
   "source": [
    "input_new_conv = f\"\"\"\n",
    "Do you have any feedback to me?\n",
    "\"\"\"\n",
    "\n",
    "js_dialogue_simulator (input_prev_conv\n",
    "                           ,input_new_conv\n",
    "                           ,role_to_simu = 'the interviewer'\n",
    "                           ,tune = 'the same tune'\n",
    "                           ,api_private_key = key)"
   ]
  },
  {
   "cell_type": "code",
   "execution_count": 9,
   "id": "5237d75d",
   "metadata": {},
   "outputs": [
    {
     "name": "stdout",
     "output_type": "stream",
     "text": [
      "Well, I have to say that while you seem like a competent candidate, I did notice a few areas where you could improve. For example, when I asked about your experience in the field, your response was a bit vague. It would have been helpful if you could have provided more specific examples. Additionally, while your willingness to work overtime is appreciated, I hope you understand that it is not something we take lightly and we only ask it of our employees when absolutely necessary. Overall, though, I think you have potential and we will definitely consider you for the position.\n"
     ]
    }
   ],
   "source": [
    "input_new_conv = f\"\"\"\n",
    "Do you have any feedback to me?\n",
    "\"\"\"\n",
    "\n",
    "js_dialogue_simulator (input_prev_conv\n",
    "                           ,input_new_conv\n",
    "                           ,role_to_simu = 'the interviewer'\n",
    "                           ,tune = 'slightly negative tune'\n",
    "                           ,api_private_key = key)"
   ]
  },
  {
   "cell_type": "code",
   "execution_count": 11,
   "id": "135a59e9",
   "metadata": {},
   "outputs": [
    {
     "name": "stdout",
     "output_type": "stream",
     "text": [
      "Absolutely! I think you have a great educational background and your experience developing a mobile application is definitely a plus. Your willingness to learn and work hard is also impressive. Overall, I believe you would be a great fit for our team. Thank you for coming in and taking the time to interview with us.\n"
     ]
    }
   ],
   "source": [
    "input_new_conv = f\"\"\"\n",
    "Do you have any feedback to me?\n",
    "\"\"\"\n",
    "\n",
    "js_dialogue_simulator (input_prev_conv\n",
    "                           ,input_new_conv\n",
    "                           ,role_to_simu = 'the interviewer'\n",
    "                           ,tune = 'slightly positive tune'\n",
    "                           ,api_private_key = key)"
   ]
  },
  {
   "cell_type": "code",
   "execution_count": null,
   "id": "f07b1cae",
   "metadata": {},
   "outputs": [],
   "source": []
  }
 ],
 "metadata": {
  "kernelspec": {
   "display_name": "Python 3 (ipykernel)",
   "language": "python",
   "name": "python3"
  },
  "language_info": {
   "codemirror_mode": {
    "name": "ipython",
    "version": 3
   },
   "file_extension": ".py",
   "mimetype": "text/x-python",
   "name": "python",
   "nbconvert_exporter": "python",
   "pygments_lexer": "ipython3",
   "version": "3.10.9"
  }
 },
 "nbformat": 4,
 "nbformat_minor": 5
}
