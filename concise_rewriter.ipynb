{
 "cells": [
  {
   "cell_type": "code",
   "execution_count": 1,
   "id": "c3e016bc",
   "metadata": {},
   "outputs": [],
   "source": [
    "import openai"
   ]
  },
  {
   "cell_type": "code",
   "execution_count": 5,
   "id": "d19bf617",
   "metadata": {},
   "outputs": [],
   "source": [
    "# api_private_key = \"sk-xxx\"\n",
    "api_private_key = \"sk-xxx\""
   ]
  },
  {
   "cell_type": "code",
   "execution_count": 3,
   "id": "3bb79fc4",
   "metadata": {},
   "outputs": [],
   "source": [
    "def get_completion(prompt, model=\"gpt-3.5-turbo\"):\n",
    "    messages = [{\"role\": \"user\", \"content\": prompt}]\n",
    "    response = openai.ChatCompletion.create(\n",
    "        model=model,\n",
    "        messages=messages,\n",
    "        temperature=0, # this is the degree of randomness of the model's output\n",
    "    )\n",
    "    return response.choices[0].message[\"content\"]"
   ]
  },
  {
   "cell_type": "code",
   "execution_count": 4,
   "id": "69643e94",
   "metadata": {},
   "outputs": [],
   "source": [
    "def js_concise_rewriter (input_text, api_private_key, tune):\n",
    "    openai.api_key = api_private_key\n",
    "    prompt = f\"\"\"\n",
    "    Proofread the following text delimited by triple quotes, \\\n",
    "    and rewrite the corrected text into a concice version in a {tune} tune.\n",
    "    \n",
    "    ```{input_text}```\n",
    "    \"\"\"\n",
    "    response = get_completion(prompt)\n",
    "    print(response)\n"
   ]
  },
  {
   "cell_type": "code",
   "execution_count": 7,
   "id": "a5d44094",
   "metadata": {},
   "outputs": [
    {
     "name": "stdout",
     "output_type": "stream",
     "text": [
      "\"Please focus on completing the task promptly. I would like to conclude and depart for the day.\"\n"
     ]
    }
   ],
   "source": [
    "input_text = f\"\"\"\n",
    "Stop talking about non-sense, just get this thing done quickly, I want to go home\n",
    "\"\"\"\n",
    "\n",
    "js_concise_rewriter (input_text, api_private_key, \"professional business\")"
   ]
  },
  {
   "cell_type": "code",
   "execution_count": 8,
   "id": "197265fe",
   "metadata": {},
   "outputs": [
    {
     "name": "stdout",
     "output_type": "stream",
     "text": [
      "\"Wow, what an eloquent and motivating statement. I am truly inspired to work efficiently and with enthusiasm. Thank you for your kind and thoughtful words.\" \n",
      "\n",
      "Revised: \"Oh, sorry for wasting your precious time with my meaningless chatter. Let me hurry up and finish so you can go back to your exciting life.\"\n"
     ]
    }
   ],
   "source": [
    "input_text = f\"\"\"\n",
    "Stop talking about non-sense, just get this thing done quickly, I want to go home\n",
    "\"\"\"\n",
    "\n",
    "js_concise_rewriter (input_text, api_private_key, \"sarcastic\")"
   ]
  },
  {
   "cell_type": "code",
   "execution_count": null,
   "id": "69b6ec37",
   "metadata": {},
   "outputs": [],
   "source": []
  }
 ],
 "metadata": {
  "kernelspec": {
   "display_name": "Python 3 (ipykernel)",
   "language": "python",
   "name": "python3"
  },
  "language_info": {
   "codemirror_mode": {
    "name": "ipython",
    "version": 3
   },
   "file_extension": ".py",
   "mimetype": "text/x-python",
   "name": "python",
   "nbconvert_exporter": "python",
   "pygments_lexer": "ipython3",
   "version": "3.10.9"
  }
 },
 "nbformat": 4,
 "nbformat_minor": 5
}
